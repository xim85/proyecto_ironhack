{
 "cells": [
  {
   "cell_type": "code",
   "execution_count": 2,
   "metadata": {},
   "outputs": [],
   "source": [
    "import requests\n",
    "import pandas as pd\n",
    "from io import StringIO\n",
    "\n",
    "url =  ('https://dataestur.azure-api.net/API-SEGITTUR-v1/TURISMO_RECEPTOR_CCAA_PAIS_DL?desde%20%28a%C3%B1o%29=2019&desde%20%28mes%29=07&hasta%20%28a%C3%B1o%29=2024&hasta%20%28mes%29=07&CCAA=Todos')\n",
    "\n",
    "# Realiza la solicitud GET\n",
    "response = requests.get(url)\n",
    "\n",
    "# Verifica que la solicitud fue exitosa\n",
    "if response.status_code == 200:\n",
    "    # Leer el contenido como CSV usando el delimitador ';'\n",
    "    csv_data = StringIO(response.text)\n",
    "    df_turismo_extranjero = pd.read_csv(csv_data, delimiter=';')\n",
    "\n",
    "\n",
    "df_turismo_extranjero.to_csv('df_turismo_extranjero.csv', index= False)"
   ]
  }
 ],
 "metadata": {
  "kernelspec": {
   "display_name": "Python 3",
   "language": "python",
   "name": "python3"
  },
  "language_info": {
   "codemirror_mode": {
    "name": "ipython",
    "version": 3
   },
   "file_extension": ".py",
   "mimetype": "text/x-python",
   "name": "python",
   "nbconvert_exporter": "python",
   "pygments_lexer": "ipython3",
   "version": "3.9.6"
  }
 },
 "nbformat": 4,
 "nbformat_minor": 2
}
